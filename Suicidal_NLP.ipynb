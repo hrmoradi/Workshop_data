{
  "cells": [
    {
      "cell_type": "markdown",
      "source": [
        "# Installing/importing Libraries"
      ],
      "metadata": {
        "id": "arxehG4Gb49C"
      },
      "id": "arxehG4Gb49C"
    },
    {
      "cell_type": "code",
      "source": [
        "!pip install transformers"
      ],
      "metadata": {
        "colab": {
          "base_uri": "https://localhost:8080/"
        },
        "id": "uQfR5ZLB0G3i",
        "outputId": "b589c7f5-a1c5-4c50-a83d-c4ca4ea1fcfa"
      },
      "id": "uQfR5ZLB0G3i",
      "execution_count": null,
      "outputs": [
        {
          "output_type": "stream",
          "name": "stdout",
          "text": [
            "Looking in indexes: https://pypi.org/simple, https://us-python.pkg.dev/colab-wheels/public/simple/\n",
            "Collecting transformers\n",
            "  Downloading transformers-4.27.3-py3-none-any.whl (6.8 MB)\n",
            "\u001b[2K     \u001b[90m━━━━━━━━━━━━━━━━━━━━━━━━━━━━━━━━━━━━━━━━\u001b[0m \u001b[32m6.8/6.8 MB\u001b[0m \u001b[31m64.9 MB/s\u001b[0m eta \u001b[36m0:00:00\u001b[0m\n",
            "\u001b[?25hCollecting tokenizers!=0.11.3,<0.14,>=0.11.1\n",
            "  Downloading tokenizers-0.13.2-cp38-cp38-manylinux_2_17_x86_64.manylinux2014_x86_64.whl (7.6 MB)\n",
            "\u001b[2K     \u001b[90m━━━━━━━━━━━━━━━━━━━━━━━━━━━━━━━━━━━━━━━━\u001b[0m \u001b[32m7.6/7.6 MB\u001b[0m \u001b[31m101.2 MB/s\u001b[0m eta \u001b[36m0:00:00\u001b[0m\n",
            "\u001b[?25hCollecting huggingface-hub<1.0,>=0.11.0\n",
            "  Downloading huggingface_hub-0.13.3-py3-none-any.whl (199 kB)\n",
            "\u001b[2K     \u001b[90m━━━━━━━━━━━━━━━━━━━━━━━━━━━━━━━━━━━━━━\u001b[0m \u001b[32m199.8/199.8 KB\u001b[0m \u001b[31m27.0 MB/s\u001b[0m eta \u001b[36m0:00:00\u001b[0m\n",
            "\u001b[?25hRequirement already satisfied: packaging>=20.0 in /usr/local/lib/python3.8/dist-packages (from transformers) (23.0)\n",
            "Requirement already satisfied: requests in /usr/local/lib/python3.8/dist-packages (from transformers) (2.25.1)\n",
            "Requirement already satisfied: numpy>=1.17 in /usr/local/lib/python3.8/dist-packages (from transformers) (1.22.4)\n",
            "Requirement already satisfied: pyyaml>=5.1 in /usr/local/lib/python3.8/dist-packages (from transformers) (6.0)\n",
            "Requirement already satisfied: filelock in /usr/local/lib/python3.8/dist-packages (from transformers) (3.9.0)\n",
            "Requirement already satisfied: regex!=2019.12.17 in /usr/local/lib/python3.8/dist-packages (from transformers) (2022.6.2)\n",
            "Requirement already satisfied: tqdm>=4.27 in /usr/local/lib/python3.8/dist-packages (from transformers) (4.64.1)\n",
            "Requirement already satisfied: typing-extensions>=3.7.4.3 in /usr/local/lib/python3.8/dist-packages (from huggingface-hub<1.0,>=0.11.0->transformers) (4.5.0)\n",
            "Requirement already satisfied: idna<3,>=2.5 in /usr/local/lib/python3.8/dist-packages (from requests->transformers) (2.10)\n",
            "Requirement already satisfied: certifi>=2017.4.17 in /usr/local/lib/python3.8/dist-packages (from requests->transformers) (2022.12.7)\n",
            "Requirement already satisfied: chardet<5,>=3.0.2 in /usr/local/lib/python3.8/dist-packages (from requests->transformers) (4.0.0)\n",
            "Requirement already satisfied: urllib3<1.27,>=1.21.1 in /usr/local/lib/python3.8/dist-packages (from requests->transformers) (1.26.14)\n",
            "Installing collected packages: tokenizers, huggingface-hub, transformers\n",
            "Successfully installed huggingface-hub-0.13.3 tokenizers-0.13.2 transformers-4.27.3\n"
          ]
        }
      ]
    },
    {
      "cell_type": "code",
      "execution_count": null,
      "id": "b8e18b23",
      "metadata": {
        "id": "b8e18b23"
      },
      "outputs": [],
      "source": [
        "import pandas as pd\n",
        "import numpy as np\n",
        "import ast\n",
        "from transformers import AutoTokenizer, TFBertForSequenceClassification\n",
        "import tensorflow as tf\n",
        "from tensorflow.keras.optimizers import Adam\n",
        "from sklearn.model_selection import train_test_split\n",
        "from sklearn.metrics import roc_auc_score, confusion_matrix, f1_score, classification_report"
      ]
    },
    {
      "cell_type": "markdown",
      "source": [
        "# Converting Class labels to Numerical Value"
      ],
      "metadata": {
        "id": "BvC-sodqcC3t"
      },
      "id": "BvC-sodqcC3t"
    },
    {
      "cell_type": "code",
      "execution_count": null,
      "id": "295962dc",
      "metadata": {
        "id": "295962dc"
      },
      "outputs": [],
      "source": [
        "def extractList(df):\n",
        "    df.loc[df[\"Post\"].str.endswith(\"]\") == False, \"Post\"] = df.loc[df[\"Post\"].str.endswith(\"]\") == False, \"Post\"] + \"']\"\n",
        "    df[\"Post\"] = df[\"Post\"].apply(lambda x: ast.literal_eval(x))\n",
        "    df[\"Post\"] = df[\"Post\"].apply(lambda x: \" \".join(x))"
      ]
    },
    {
      "cell_type": "code",
      "execution_count": null,
      "id": "162f3966",
      "metadata": {
        "id": "162f3966"
      },
      "outputs": [],
      "source": [
        "label_conversion = {\"Supportive\": 0,\n",
        "                    \"Indicator\": 1,\n",
        "                    \"Ideation\": 2,\n",
        "                    \"Behavior\": 3,\n",
        "                    \"Attempt\": 4}"
      ]
    },
    {
      "cell_type": "markdown",
      "source": [
        "# Downloading Data From GitHub and Loading"
      ],
      "metadata": {
        "id": "9bpVd6rmcJFn"
      },
      "id": "9bpVd6rmcJFn"
    },
    {
      "cell_type": "code",
      "source": [
        "!git clone https://github.com/hrmoradi/Workshop_data # goes to your cotent folder"
      ],
      "metadata": {
        "colab": {
          "base_uri": "https://localhost:8080/"
        },
        "id": "pTXt9mHWjh4g",
        "outputId": "448fccc9-4105-463c-b353-835ffd1deeaa"
      },
      "id": "pTXt9mHWjh4g",
      "execution_count": null,
      "outputs": [
        {
          "output_type": "stream",
          "name": "stdout",
          "text": [
            "Cloning into 'Workshop_data'...\n",
            "remote: Enumerating objects: 5865, done.\u001b[K\n",
            "remote: Counting objects: 100% (25/25), done.\u001b[K\n",
            "remote: Compressing objects: 100% (20/20), done.\u001b[K\n",
            "remote: Total 5865 (delta 3), reused 23 (delta 2), pack-reused 5840\u001b[K\n",
            "Receiving objects: 100% (5865/5865), 1.13 GiB | 31.96 MiB/s, done.\n",
            "Resolving deltas: 100% (5/5), done.\n",
            "Updating files: 100% (6261/6261), done.\n"
          ]
        }
      ]
    },
    {
      "cell_type": "code",
      "execution_count": null,
      "id": "7bedf43d",
      "metadata": {
        "id": "7bedf43d",
        "outputId": "b993a278-b297-4220-8687-5908384e1a00",
        "colab": {
          "base_uri": "https://localhost:8080/",
          "height": 423
        }
      },
      "outputs": [
        {
          "output_type": "execute_result",
          "data": {
            "text/plain": [
              "         User                                               Post       Label\n",
              "0      user-0  ['Its not a viable option, and youll be leavin...  Supportive\n",
              "1      user-1  ['It can be hard to appreciate the notion that...    Ideation\n",
              "2      user-2  ['Hi, so last night i was sitting on the ledge...    Behavior\n",
              "3      user-3  ['I tried to kill my self once and failed badl...     Attempt\n",
              "4      user-4  ['Hi NEM3030. What sorts of things do you enjo...    Ideation\n",
              "..        ...                                                ...         ...\n",
              "495  user-495  ['Its not the end, it just feels that way. Or ...  Supportive\n",
              "496  user-496  ['It was a skype call, but she ended it and Ve...   Indicator\n",
              "497  user-497  ['That sounds really weird.Maybe you were Dist...  Supportive\n",
              "498  user-498  ['Dont know there as dumb as it sounds I feel ...     Attempt\n",
              "499  user-499  ['&gt;It gets better, trust me.Ive spent long ...    Behavior\n",
              "\n",
              "[500 rows x 3 columns]"
            ],
            "text/html": [
              "\n",
              "  <div id=\"df-2e2620f8-5bc0-4c95-a52a-c7b3ed62fa44\">\n",
              "    <div class=\"colab-df-container\">\n",
              "      <div>\n",
              "<style scoped>\n",
              "    .dataframe tbody tr th:only-of-type {\n",
              "        vertical-align: middle;\n",
              "    }\n",
              "\n",
              "    .dataframe tbody tr th {\n",
              "        vertical-align: top;\n",
              "    }\n",
              "\n",
              "    .dataframe thead th {\n",
              "        text-align: right;\n",
              "    }\n",
              "</style>\n",
              "<table border=\"1\" class=\"dataframe\">\n",
              "  <thead>\n",
              "    <tr style=\"text-align: right;\">\n",
              "      <th></th>\n",
              "      <th>User</th>\n",
              "      <th>Post</th>\n",
              "      <th>Label</th>\n",
              "    </tr>\n",
              "  </thead>\n",
              "  <tbody>\n",
              "    <tr>\n",
              "      <th>0</th>\n",
              "      <td>user-0</td>\n",
              "      <td>['Its not a viable option, and youll be leavin...</td>\n",
              "      <td>Supportive</td>\n",
              "    </tr>\n",
              "    <tr>\n",
              "      <th>1</th>\n",
              "      <td>user-1</td>\n",
              "      <td>['It can be hard to appreciate the notion that...</td>\n",
              "      <td>Ideation</td>\n",
              "    </tr>\n",
              "    <tr>\n",
              "      <th>2</th>\n",
              "      <td>user-2</td>\n",
              "      <td>['Hi, so last night i was sitting on the ledge...</td>\n",
              "      <td>Behavior</td>\n",
              "    </tr>\n",
              "    <tr>\n",
              "      <th>3</th>\n",
              "      <td>user-3</td>\n",
              "      <td>['I tried to kill my self once and failed badl...</td>\n",
              "      <td>Attempt</td>\n",
              "    </tr>\n",
              "    <tr>\n",
              "      <th>4</th>\n",
              "      <td>user-4</td>\n",
              "      <td>['Hi NEM3030. What sorts of things do you enjo...</td>\n",
              "      <td>Ideation</td>\n",
              "    </tr>\n",
              "    <tr>\n",
              "      <th>...</th>\n",
              "      <td>...</td>\n",
              "      <td>...</td>\n",
              "      <td>...</td>\n",
              "    </tr>\n",
              "    <tr>\n",
              "      <th>495</th>\n",
              "      <td>user-495</td>\n",
              "      <td>['Its not the end, it just feels that way. Or ...</td>\n",
              "      <td>Supportive</td>\n",
              "    </tr>\n",
              "    <tr>\n",
              "      <th>496</th>\n",
              "      <td>user-496</td>\n",
              "      <td>['It was a skype call, but she ended it and Ve...</td>\n",
              "      <td>Indicator</td>\n",
              "    </tr>\n",
              "    <tr>\n",
              "      <th>497</th>\n",
              "      <td>user-497</td>\n",
              "      <td>['That sounds really weird.Maybe you were Dist...</td>\n",
              "      <td>Supportive</td>\n",
              "    </tr>\n",
              "    <tr>\n",
              "      <th>498</th>\n",
              "      <td>user-498</td>\n",
              "      <td>['Dont know there as dumb as it sounds I feel ...</td>\n",
              "      <td>Attempt</td>\n",
              "    </tr>\n",
              "    <tr>\n",
              "      <th>499</th>\n",
              "      <td>user-499</td>\n",
              "      <td>['&amp;gt;It gets better, trust me.Ive spent long ...</td>\n",
              "      <td>Behavior</td>\n",
              "    </tr>\n",
              "  </tbody>\n",
              "</table>\n",
              "<p>500 rows × 3 columns</p>\n",
              "</div>\n",
              "      <button class=\"colab-df-convert\" onclick=\"convertToInteractive('df-2e2620f8-5bc0-4c95-a52a-c7b3ed62fa44')\"\n",
              "              title=\"Convert this dataframe to an interactive table.\"\n",
              "              style=\"display:none;\">\n",
              "        \n",
              "  <svg xmlns=\"http://www.w3.org/2000/svg\" height=\"24px\"viewBox=\"0 0 24 24\"\n",
              "       width=\"24px\">\n",
              "    <path d=\"M0 0h24v24H0V0z\" fill=\"none\"/>\n",
              "    <path d=\"M18.56 5.44l.94 2.06.94-2.06 2.06-.94-2.06-.94-.94-2.06-.94 2.06-2.06.94zm-11 1L8.5 8.5l.94-2.06 2.06-.94-2.06-.94L8.5 2.5l-.94 2.06-2.06.94zm10 10l.94 2.06.94-2.06 2.06-.94-2.06-.94-.94-2.06-.94 2.06-2.06.94z\"/><path d=\"M17.41 7.96l-1.37-1.37c-.4-.4-.92-.59-1.43-.59-.52 0-1.04.2-1.43.59L10.3 9.45l-7.72 7.72c-.78.78-.78 2.05 0 2.83L4 21.41c.39.39.9.59 1.41.59.51 0 1.02-.2 1.41-.59l7.78-7.78 2.81-2.81c.8-.78.8-2.07 0-2.86zM5.41 20L4 18.59l7.72-7.72 1.47 1.35L5.41 20z\"/>\n",
              "  </svg>\n",
              "      </button>\n",
              "      \n",
              "  <style>\n",
              "    .colab-df-container {\n",
              "      display:flex;\n",
              "      flex-wrap:wrap;\n",
              "      gap: 12px;\n",
              "    }\n",
              "\n",
              "    .colab-df-convert {\n",
              "      background-color: #E8F0FE;\n",
              "      border: none;\n",
              "      border-radius: 50%;\n",
              "      cursor: pointer;\n",
              "      display: none;\n",
              "      fill: #1967D2;\n",
              "      height: 32px;\n",
              "      padding: 0 0 0 0;\n",
              "      width: 32px;\n",
              "    }\n",
              "\n",
              "    .colab-df-convert:hover {\n",
              "      background-color: #E2EBFA;\n",
              "      box-shadow: 0px 1px 2px rgba(60, 64, 67, 0.3), 0px 1px 3px 1px rgba(60, 64, 67, 0.15);\n",
              "      fill: #174EA6;\n",
              "    }\n",
              "\n",
              "    [theme=dark] .colab-df-convert {\n",
              "      background-color: #3B4455;\n",
              "      fill: #D2E3FC;\n",
              "    }\n",
              "\n",
              "    [theme=dark] .colab-df-convert:hover {\n",
              "      background-color: #434B5C;\n",
              "      box-shadow: 0px 1px 3px 1px rgba(0, 0, 0, 0.15);\n",
              "      filter: drop-shadow(0px 1px 2px rgba(0, 0, 0, 0.3));\n",
              "      fill: #FFFFFF;\n",
              "    }\n",
              "  </style>\n",
              "\n",
              "      <script>\n",
              "        const buttonEl =\n",
              "          document.querySelector('#df-2e2620f8-5bc0-4c95-a52a-c7b3ed62fa44 button.colab-df-convert');\n",
              "        buttonEl.style.display =\n",
              "          google.colab.kernel.accessAllowed ? 'block' : 'none';\n",
              "\n",
              "        async function convertToInteractive(key) {\n",
              "          const element = document.querySelector('#df-2e2620f8-5bc0-4c95-a52a-c7b3ed62fa44');\n",
              "          const dataTable =\n",
              "            await google.colab.kernel.invokeFunction('convertToInteractive',\n",
              "                                                     [key], {});\n",
              "          if (!dataTable) return;\n",
              "\n",
              "          const docLinkHtml = 'Like what you see? Visit the ' +\n",
              "            '<a target=\"_blank\" href=https://colab.research.google.com/notebooks/data_table.ipynb>data table notebook</a>'\n",
              "            + ' to learn more about interactive tables.';\n",
              "          element.innerHTML = '';\n",
              "          dataTable['output_type'] = 'display_data';\n",
              "          await google.colab.output.renderOutput(dataTable, element);\n",
              "          const docLink = document.createElement('div');\n",
              "          docLink.innerHTML = docLinkHtml;\n",
              "          element.appendChild(docLink);\n",
              "        }\n",
              "      </script>\n",
              "    </div>\n",
              "  </div>\n",
              "  "
            ]
          },
          "metadata": {},
          "execution_count": 8
        }
      ],
      "source": [
        "dat = pd.read_csv(\"/content/Workshop_data/500Reddit.txt\")\n",
        "dat"
      ]
    },
    {
      "cell_type": "code",
      "execution_count": null,
      "id": "5e30bf51",
      "metadata": {
        "id": "5e30bf51",
        "outputId": "3a2d13ea-ce47-48ed-fb28-d050bf5b237d",
        "colab": {
          "base_uri": "https://localhost:8080/",
          "height": 423
        }
      },
      "outputs": [
        {
          "output_type": "execute_result",
          "data": {
            "text/plain": [
              "         User                                               Post  Label\n",
              "0      user-0  Its not a viable option, and youll be leaving ...      0\n",
              "1      user-1  It can be hard to appreciate the notion that y...      2\n",
              "2      user-2  Hi, so last night i was sitting on the ledge o...      3\n",
              "3      user-3  I tried to kill my self once and failed badly ...      4\n",
              "4      user-4  Hi NEM3030. What sorts of things do you enjoy ...      2\n",
              "..        ...                                                ...    ...\n",
              "495  user-495  Its not the end, it just feels that way. Or at...      0\n",
              "496  user-496  It was a skype call, but she ended it and Vent...      1\n",
              "497  user-497  That sounds really weird.Maybe you were Distra...      0\n",
              "498  user-498  Dont know there as dumb as it sounds I feel Hy...      4\n",
              "499  user-499  &gt;It gets better, trust me.Ive spent long en...      3\n",
              "\n",
              "[500 rows x 3 columns]"
            ],
            "text/html": [
              "\n",
              "  <div id=\"df-646bee54-9889-41ca-8a5f-0858b738c98b\">\n",
              "    <div class=\"colab-df-container\">\n",
              "      <div>\n",
              "<style scoped>\n",
              "    .dataframe tbody tr th:only-of-type {\n",
              "        vertical-align: middle;\n",
              "    }\n",
              "\n",
              "    .dataframe tbody tr th {\n",
              "        vertical-align: top;\n",
              "    }\n",
              "\n",
              "    .dataframe thead th {\n",
              "        text-align: right;\n",
              "    }\n",
              "</style>\n",
              "<table border=\"1\" class=\"dataframe\">\n",
              "  <thead>\n",
              "    <tr style=\"text-align: right;\">\n",
              "      <th></th>\n",
              "      <th>User</th>\n",
              "      <th>Post</th>\n",
              "      <th>Label</th>\n",
              "    </tr>\n",
              "  </thead>\n",
              "  <tbody>\n",
              "    <tr>\n",
              "      <th>0</th>\n",
              "      <td>user-0</td>\n",
              "      <td>Its not a viable option, and youll be leaving ...</td>\n",
              "      <td>0</td>\n",
              "    </tr>\n",
              "    <tr>\n",
              "      <th>1</th>\n",
              "      <td>user-1</td>\n",
              "      <td>It can be hard to appreciate the notion that y...</td>\n",
              "      <td>2</td>\n",
              "    </tr>\n",
              "    <tr>\n",
              "      <th>2</th>\n",
              "      <td>user-2</td>\n",
              "      <td>Hi, so last night i was sitting on the ledge o...</td>\n",
              "      <td>3</td>\n",
              "    </tr>\n",
              "    <tr>\n",
              "      <th>3</th>\n",
              "      <td>user-3</td>\n",
              "      <td>I tried to kill my self once and failed badly ...</td>\n",
              "      <td>4</td>\n",
              "    </tr>\n",
              "    <tr>\n",
              "      <th>4</th>\n",
              "      <td>user-4</td>\n",
              "      <td>Hi NEM3030. What sorts of things do you enjoy ...</td>\n",
              "      <td>2</td>\n",
              "    </tr>\n",
              "    <tr>\n",
              "      <th>...</th>\n",
              "      <td>...</td>\n",
              "      <td>...</td>\n",
              "      <td>...</td>\n",
              "    </tr>\n",
              "    <tr>\n",
              "      <th>495</th>\n",
              "      <td>user-495</td>\n",
              "      <td>Its not the end, it just feels that way. Or at...</td>\n",
              "      <td>0</td>\n",
              "    </tr>\n",
              "    <tr>\n",
              "      <th>496</th>\n",
              "      <td>user-496</td>\n",
              "      <td>It was a skype call, but she ended it and Vent...</td>\n",
              "      <td>1</td>\n",
              "    </tr>\n",
              "    <tr>\n",
              "      <th>497</th>\n",
              "      <td>user-497</td>\n",
              "      <td>That sounds really weird.Maybe you were Distra...</td>\n",
              "      <td>0</td>\n",
              "    </tr>\n",
              "    <tr>\n",
              "      <th>498</th>\n",
              "      <td>user-498</td>\n",
              "      <td>Dont know there as dumb as it sounds I feel Hy...</td>\n",
              "      <td>4</td>\n",
              "    </tr>\n",
              "    <tr>\n",
              "      <th>499</th>\n",
              "      <td>user-499</td>\n",
              "      <td>&amp;gt;It gets better, trust me.Ive spent long en...</td>\n",
              "      <td>3</td>\n",
              "    </tr>\n",
              "  </tbody>\n",
              "</table>\n",
              "<p>500 rows × 3 columns</p>\n",
              "</div>\n",
              "      <button class=\"colab-df-convert\" onclick=\"convertToInteractive('df-646bee54-9889-41ca-8a5f-0858b738c98b')\"\n",
              "              title=\"Convert this dataframe to an interactive table.\"\n",
              "              style=\"display:none;\">\n",
              "        \n",
              "  <svg xmlns=\"http://www.w3.org/2000/svg\" height=\"24px\"viewBox=\"0 0 24 24\"\n",
              "       width=\"24px\">\n",
              "    <path d=\"M0 0h24v24H0V0z\" fill=\"none\"/>\n",
              "    <path d=\"M18.56 5.44l.94 2.06.94-2.06 2.06-.94-2.06-.94-.94-2.06-.94 2.06-2.06.94zm-11 1L8.5 8.5l.94-2.06 2.06-.94-2.06-.94L8.5 2.5l-.94 2.06-2.06.94zm10 10l.94 2.06.94-2.06 2.06-.94-2.06-.94-.94-2.06-.94 2.06-2.06.94z\"/><path d=\"M17.41 7.96l-1.37-1.37c-.4-.4-.92-.59-1.43-.59-.52 0-1.04.2-1.43.59L10.3 9.45l-7.72 7.72c-.78.78-.78 2.05 0 2.83L4 21.41c.39.39.9.59 1.41.59.51 0 1.02-.2 1.41-.59l7.78-7.78 2.81-2.81c.8-.78.8-2.07 0-2.86zM5.41 20L4 18.59l7.72-7.72 1.47 1.35L5.41 20z\"/>\n",
              "  </svg>\n",
              "      </button>\n",
              "      \n",
              "  <style>\n",
              "    .colab-df-container {\n",
              "      display:flex;\n",
              "      flex-wrap:wrap;\n",
              "      gap: 12px;\n",
              "    }\n",
              "\n",
              "    .colab-df-convert {\n",
              "      background-color: #E8F0FE;\n",
              "      border: none;\n",
              "      border-radius: 50%;\n",
              "      cursor: pointer;\n",
              "      display: none;\n",
              "      fill: #1967D2;\n",
              "      height: 32px;\n",
              "      padding: 0 0 0 0;\n",
              "      width: 32px;\n",
              "    }\n",
              "\n",
              "    .colab-df-convert:hover {\n",
              "      background-color: #E2EBFA;\n",
              "      box-shadow: 0px 1px 2px rgba(60, 64, 67, 0.3), 0px 1px 3px 1px rgba(60, 64, 67, 0.15);\n",
              "      fill: #174EA6;\n",
              "    }\n",
              "\n",
              "    [theme=dark] .colab-df-convert {\n",
              "      background-color: #3B4455;\n",
              "      fill: #D2E3FC;\n",
              "    }\n",
              "\n",
              "    [theme=dark] .colab-df-convert:hover {\n",
              "      background-color: #434B5C;\n",
              "      box-shadow: 0px 1px 3px 1px rgba(0, 0, 0, 0.15);\n",
              "      filter: drop-shadow(0px 1px 2px rgba(0, 0, 0, 0.3));\n",
              "      fill: #FFFFFF;\n",
              "    }\n",
              "  </style>\n",
              "\n",
              "      <script>\n",
              "        const buttonEl =\n",
              "          document.querySelector('#df-646bee54-9889-41ca-8a5f-0858b738c98b button.colab-df-convert');\n",
              "        buttonEl.style.display =\n",
              "          google.colab.kernel.accessAllowed ? 'block' : 'none';\n",
              "\n",
              "        async function convertToInteractive(key) {\n",
              "          const element = document.querySelector('#df-646bee54-9889-41ca-8a5f-0858b738c98b');\n",
              "          const dataTable =\n",
              "            await google.colab.kernel.invokeFunction('convertToInteractive',\n",
              "                                                     [key], {});\n",
              "          if (!dataTable) return;\n",
              "\n",
              "          const docLinkHtml = 'Like what you see? Visit the ' +\n",
              "            '<a target=\"_blank\" href=https://colab.research.google.com/notebooks/data_table.ipynb>data table notebook</a>'\n",
              "            + ' to learn more about interactive tables.';\n",
              "          element.innerHTML = '';\n",
              "          dataTable['output_type'] = 'display_data';\n",
              "          await google.colab.output.renderOutput(dataTable, element);\n",
              "          const docLink = document.createElement('div');\n",
              "          docLink.innerHTML = docLinkHtml;\n",
              "          element.appendChild(docLink);\n",
              "        }\n",
              "      </script>\n",
              "    </div>\n",
              "  </div>\n",
              "  "
            ]
          },
          "metadata": {},
          "execution_count": 9
        }
      ],
      "source": [
        "# Rename Labels to integers in order of intensity\n",
        "dat = dat.replace({\"Label\":label_conversion})\n",
        "# Extract list of posts from string of list and concatenate together\n",
        "extractList(dat)\n",
        "dat"
      ]
    },
    {
      "cell_type": "code",
      "execution_count": null,
      "id": "61e7c247",
      "metadata": {
        "id": "61e7c247",
        "outputId": "41ec9f08-6fb7-4945-c9ee-4c936f505330",
        "colab": {
          "base_uri": "https://localhost:8080/"
        }
      },
      "outputs": [
        {
          "output_type": "execute_result",
          "data": {
            "text/plain": [
              "5"
            ]
          },
          "metadata": {},
          "execution_count": 10
        }
      ],
      "source": [
        "num_labels = dat[\"Label\"].nunique()\n",
        "num_labels"
      ]
    },
    {
      "cell_type": "code",
      "execution_count": null,
      "id": "c90ee253",
      "metadata": {
        "id": "c90ee253"
      },
      "outputs": [],
      "source": [
        "X_train, X_test, y_train, y_test = train_test_split(dat[\"Post\"], dat[\"Label\"], test_size=0.33, random_state=42, stratify=dat[\"Label\"], shuffle=True)"
      ]
    },
    {
      "cell_type": "markdown",
      "source": [
        "# Text To verctor Representation"
      ],
      "metadata": {
        "id": "0XYP4kN0cZPQ"
      },
      "id": "0XYP4kN0cZPQ"
    },
    {
      "cell_type": "code",
      "execution_count": null,
      "id": "d1611cf8",
      "metadata": {
        "id": "d1611cf8"
      },
      "outputs": [],
      "source": [
        "# Import BERT tokenizer\n",
        "tokenizer = AutoTokenizer.from_pretrained(\"bert-base-uncased\")"
      ]
    },
    {
      "cell_type": "code",
      "execution_count": null,
      "id": "969e74cc",
      "metadata": {
        "id": "969e74cc"
      },
      "outputs": [],
      "source": [
        "X_train_input = tokenizer(X_train.values.tolist(), max_length = 512, truncation=\"longest_first\", padding=\"max_length\")\n",
        "X_test_input = tokenizer(X_test.values.tolist(), max_length = 512, truncation=\"longest_first\", padding=\"max_length\")"
      ]
    },
    {
      "cell_type": "code",
      "execution_count": null,
      "id": "8fcc3502",
      "metadata": {
        "id": "8fcc3502"
      },
      "outputs": [],
      "source": [
        "train_input_ids = np.asarray(X_train_input[\"input_ids\"])\n",
        "train_att_mask = np.asarray(X_train_input[\"attention_mask\"])\n",
        "\n",
        "test_input_ids = np.asarray(X_test_input[\"input_ids\"])\n",
        "test_att_mask = np.asarray(X_test_input[\"attention_mask\"])\n",
        "\n",
        "y_train = np.asarray(y_train)\n",
        "y_test = np.asarray(y_test)"
      ]
    },
    {
      "cell_type": "markdown",
      "id": "54790e5d",
      "metadata": {
        "id": "54790e5d"
      },
      "source": [
        "# Freezing transformer weights"
      ]
    },
    {
      "cell_type": "code",
      "execution_count": null,
      "id": "c9291373",
      "metadata": {
        "scrolled": true,
        "id": "c9291373",
        "outputId": "1b677230-8dc0-4262-c531-02f09da392cf",
        "colab": {
          "base_uri": "https://localhost:8080/",
          "height": 118,
          "referenced_widgets": [
            "ed97455c99354c89bafbf18b6032e5db",
            "c45e42b446a3439d99b8d35e5a0686e6",
            "d85a0dada9e742e49d48385cee0a3f02",
            "444a860711214fb9ae8e9c3408c41b04",
            "c96216356b1940debf6be7c57323f41c",
            "37689ebb93054ff5929065a8f1f4d29a",
            "e72173eb6911400998b657e352b5cca5",
            "f42014c5d8aa4752acde0047db373b9d",
            "5c26de718b6044eea33de91a42ce30c9",
            "21d66770136849aa92c1fdf7f599775b",
            "426040e2d8e34bad82bb88679f2cd726"
          ]
        }
      },
      "outputs": [
        {
          "output_type": "display_data",
          "data": {
            "text/plain": [
              "Downloading tf_model.h5:   0%|          | 0.00/536M [00:00<?, ?B/s]"
            ],
            "application/vnd.jupyter.widget-view+json": {
              "version_major": 2,
              "version_minor": 0,
              "model_id": "ed97455c99354c89bafbf18b6032e5db"
            }
          },
          "metadata": {}
        },
        {
          "output_type": "stream",
          "name": "stderr",
          "text": [
            "All model checkpoint layers were used when initializing TFBertForSequenceClassification.\n",
            "\n",
            "Some layers of TFBertForSequenceClassification were not initialized from the model checkpoint at bert-base-uncased and are newly initialized: ['classifier']\n",
            "You should probably TRAIN this model on a down-stream task to be able to use it for predictions and inference.\n"
          ]
        }
      ],
      "source": [
        "model_frozen = TFBertForSequenceClassification.from_pretrained(\"bert-base-uncased\", num_labels = num_labels)"
      ]
    },
    {
      "cell_type": "code",
      "execution_count": null,
      "id": "ab52c153",
      "metadata": {
        "id": "ab52c153",
        "outputId": "d445fdc5-5d4a-4c12-f6f5-0d61c45ced4d",
        "colab": {
          "base_uri": "https://localhost:8080/"
        }
      },
      "outputs": [
        {
          "output_type": "stream",
          "name": "stdout",
          "text": [
            "Model: \"tf_bert_for_sequence_classification\"\n",
            "_________________________________________________________________\n",
            " Layer (type)                Output Shape              Param #   \n",
            "=================================================================\n",
            " bert (TFBertMainLayer)      multiple                  109482240 \n",
            "                                                                 \n",
            " dropout_37 (Dropout)        multiple                  0         \n",
            "                                                                 \n",
            " classifier (Dense)          multiple                  3845      \n",
            "                                                                 \n",
            "=================================================================\n",
            "Total params: 109,486,085\n",
            "Trainable params: 3,845\n",
            "Non-trainable params: 109,482,240\n",
            "_________________________________________________________________\n"
          ]
        }
      ],
      "source": [
        "model_frozen.bert.trainable = False\n",
        "model_frozen.summary()"
      ]
    },
    {
      "cell_type": "code",
      "source": [
        "loss = tf.keras.losses.SparseCategoricalCrossentropy(from_logits=True)\n",
        "metrics = tf.keras.metrics.SparseCategoricalAccuracy(name='accuracy')\n",
        "\n",
        "model_frozen.compile(optimizer=Adam(learning_rate=1e-5), \n",
        "                      loss=loss,\n",
        "                      metrics=metrics)"
      ],
      "metadata": {
        "id": "sHl8zY3e0Zvr"
      },
      "id": "sHl8zY3e0Zvr",
      "execution_count": null,
      "outputs": []
    },
    {
      "cell_type": "code",
      "execution_count": null,
      "id": "2a7e975b",
      "metadata": {
        "id": "2a7e975b",
        "outputId": "4965912c-b961-4ce8-b88a-87f9e96e1caa",
        "colab": {
          "base_uri": "https://localhost:8080/"
        }
      },
      "outputs": [
        {
          "output_type": "stream",
          "name": "stdout",
          "text": [
            "Epoch 1/15\n",
            "84/84 [==============================] - 35s 196ms/step - loss: 1.5454 - accuracy: 0.3284\n",
            "Epoch 2/15\n",
            "84/84 [==============================] - 17s 198ms/step - loss: 1.5324 - accuracy: 0.3373\n",
            "Epoch 3/15\n",
            "84/84 [==============================] - 17s 202ms/step - loss: 1.5491 - accuracy: 0.3373\n",
            "Epoch 4/15\n",
            "84/84 [==============================] - 17s 198ms/step - loss: 1.5282 - accuracy: 0.3403\n",
            "Epoch 5/15\n",
            "84/84 [==============================] - 16s 195ms/step - loss: 1.5213 - accuracy: 0.3493\n",
            "Epoch 6/15\n",
            "84/84 [==============================] - 16s 196ms/step - loss: 1.5178 - accuracy: 0.3403\n",
            "Epoch 7/15\n",
            "84/84 [==============================] - 16s 196ms/step - loss: 1.5121 - accuracy: 0.3463\n",
            "Epoch 8/15\n",
            "84/84 [==============================] - 17s 199ms/step - loss: 1.5283 - accuracy: 0.3373\n",
            "Epoch 9/15\n",
            "84/84 [==============================] - 17s 198ms/step - loss: 1.5218 - accuracy: 0.3463\n",
            "Epoch 10/15\n",
            "84/84 [==============================] - 16s 196ms/step - loss: 1.5231 - accuracy: 0.3463\n",
            "Epoch 11/15\n",
            "84/84 [==============================] - 17s 197ms/step - loss: 1.5219 - accuracy: 0.3433\n",
            "Epoch 12/15\n",
            "84/84 [==============================] - 17s 197ms/step - loss: 1.5290 - accuracy: 0.3433\n",
            "Epoch 13/15\n",
            "84/84 [==============================] - 17s 199ms/step - loss: 1.5244 - accuracy: 0.3433\n",
            "Epoch 14/15\n",
            "84/84 [==============================] - 17s 197ms/step - loss: 1.5321 - accuracy: 0.3433\n",
            "Epoch 15/15\n",
            "84/84 [==============================] - 17s 197ms/step - loss: 1.5172 - accuracy: 0.3373\n"
          ]
        },
        {
          "output_type": "execute_result",
          "data": {
            "text/plain": [
              "<keras.callbacks.History at 0x7fa0f44938e0>"
            ]
          },
          "metadata": {},
          "execution_count": 16
        }
      ],
      "source": [
        "model_frozen.fit(x=[train_input_ids, train_att_mask], y=y_train, epochs=15, batch_size=4)"
      ]
    },
    {
      "cell_type": "markdown",
      "source": [
        "Since TFBertForSequenceClassification returns logits, we must first convert it to probabilities using softmax."
      ],
      "metadata": {
        "id": "tVSAYXO-HSTZ"
      },
      "id": "tVSAYXO-HSTZ"
    },
    {
      "cell_type": "code",
      "source": [
        "output = model_frozen.predict([test_input_ids, test_att_mask])\n",
        "softmax = tf.keras.layers.Softmax(axis=-1)\n",
        "preds = softmax(output.logits)\n",
        "pred_labels = preds.numpy().argmax(axis=1)"
      ],
      "metadata": {
        "colab": {
          "base_uri": "https://localhost:8080/"
        },
        "id": "DvWnUaiB4YyQ",
        "outputId": "b8f444eb-5ddf-4858-d2d7-c8f1be063d33"
      },
      "id": "DvWnUaiB4YyQ",
      "execution_count": null,
      "outputs": [
        {
          "output_type": "stream",
          "name": "stdout",
          "text": [
            "6/6 [==============================] - 9s 1s/step\n"
          ]
        }
      ]
    },
    {
      "cell_type": "code",
      "source": [
        "print('Classification Report')\n",
        "print(classification_report(y_test,pred_labels))"
      ],
      "metadata": {
        "colab": {
          "base_uri": "https://localhost:8080/"
        },
        "id": "LKfHJpxR5pd7",
        "outputId": "319f407e-13e9-43ff-ca40-f9b8d323d798"
      },
      "id": "LKfHJpxR5pd7",
      "execution_count": null,
      "outputs": [
        {
          "output_type": "stream",
          "name": "stdout",
          "text": [
            "Classification Report\n",
            "              precision    recall  f1-score   support\n",
            "\n",
            "           0       0.00      0.00      0.00        36\n",
            "           1       0.00      0.00      0.00        33\n",
            "           2       0.34      1.00      0.51        56\n",
            "           3       0.00      0.00      0.00        25\n",
            "           4       0.00      0.00      0.00        15\n",
            "\n",
            "    accuracy                           0.34       165\n",
            "   macro avg       0.07      0.20      0.10       165\n",
            "weighted avg       0.12      0.34      0.17       165\n",
            "\n"
          ]
        },
        {
          "output_type": "stream",
          "name": "stderr",
          "text": [
            "/usr/local/lib/python3.9/dist-packages/sklearn/metrics/_classification.py:1344: UndefinedMetricWarning: Precision and F-score are ill-defined and being set to 0.0 in labels with no predicted samples. Use `zero_division` parameter to control this behavior.\n",
            "  _warn_prf(average, modifier, msg_start, len(result))\n",
            "/usr/local/lib/python3.9/dist-packages/sklearn/metrics/_classification.py:1344: UndefinedMetricWarning: Precision and F-score are ill-defined and being set to 0.0 in labels with no predicted samples. Use `zero_division` parameter to control this behavior.\n",
            "  _warn_prf(average, modifier, msg_start, len(result))\n",
            "/usr/local/lib/python3.9/dist-packages/sklearn/metrics/_classification.py:1344: UndefinedMetricWarning: Precision and F-score are ill-defined and being set to 0.0 in labels with no predicted samples. Use `zero_division` parameter to control this behavior.\n",
            "  _warn_prf(average, modifier, msg_start, len(result))\n"
          ]
        }
      ]
    },
    {
      "cell_type": "code",
      "source": [
        "roc_auc_score(y_test, preds, multi_class='ovr', average='macro')"
      ],
      "metadata": {
        "colab": {
          "base_uri": "https://localhost:8080/"
        },
        "id": "t-k4Vrt3GP4_",
        "outputId": "4cada8f9-d5a7-4c9f-f9fe-b69e465d81d7"
      },
      "id": "t-k4Vrt3GP4_",
      "execution_count": null,
      "outputs": [
        {
          "output_type": "execute_result",
          "data": {
            "text/plain": [
              "0.5649207643355789"
            ]
          },
          "metadata": {},
          "execution_count": 19
        }
      ]
    },
    {
      "cell_type": "markdown",
      "source": [
        "# Unfreeze transformer weights"
      ],
      "metadata": {
        "id": "osTphW4S6fWX"
      },
      "id": "osTphW4S6fWX"
    },
    {
      "cell_type": "code",
      "source": [
        "model_unfrozen = TFBertForSequenceClassification.from_pretrained(\"bert-base-uncased\", num_labels = num_labels)"
      ],
      "metadata": {
        "colab": {
          "base_uri": "https://localhost:8080/"
        },
        "id": "x__Y5NIC6e4-",
        "outputId": "20708804-a67a-43dd-e0e3-5e9d8ef28534"
      },
      "id": "x__Y5NIC6e4-",
      "execution_count": null,
      "outputs": [
        {
          "output_type": "stream",
          "name": "stderr",
          "text": [
            "All model checkpoint layers were used when initializing TFBertForSequenceClassification.\n",
            "\n",
            "Some layers of TFBertForSequenceClassification were not initialized from the model checkpoint at bert-base-uncased and are newly initialized: ['classifier']\n",
            "You should probably TRAIN this model on a down-stream task to be able to use it for predictions and inference.\n"
          ]
        }
      ]
    },
    {
      "cell_type": "code",
      "source": [
        "model_unfrozen.bert.trainable = True # Default value set to true\n",
        "model_unfrozen.summary()"
      ],
      "metadata": {
        "colab": {
          "base_uri": "https://localhost:8080/"
        },
        "id": "t-kDDAo66roc",
        "outputId": "4a29f5ff-5f92-48cf-a58a-0f0f45bc4dc6"
      },
      "id": "t-kDDAo66roc",
      "execution_count": null,
      "outputs": [
        {
          "output_type": "stream",
          "name": "stdout",
          "text": [
            "Model: \"tf_bert_for_sequence_classification_1\"\n",
            "_________________________________________________________________\n",
            " Layer (type)                Output Shape              Param #   \n",
            "=================================================================\n",
            " bert (TFBertMainLayer)      multiple                  109482240 \n",
            "                                                                 \n",
            " dropout_75 (Dropout)        multiple                  0         \n",
            "                                                                 \n",
            " classifier (Dense)          multiple                  3845      \n",
            "                                                                 \n",
            "=================================================================\n",
            "Total params: 109,486,085\n",
            "Trainable params: 109,486,085\n",
            "Non-trainable params: 0\n",
            "_________________________________________________________________\n"
          ]
        }
      ]
    },
    {
      "cell_type": "code",
      "source": [
        "loss = tf.keras.losses.SparseCategoricalCrossentropy(from_logits=True)\n",
        "metrics = tf.keras.metrics.SparseCategoricalAccuracy(name='accuracy')\n",
        "\n",
        "model_unfrozen.compile(optimizer=Adam(learning_rate=1e-5), \n",
        "                      loss=loss,\n",
        "                      metrics=metrics)"
      ],
      "metadata": {
        "id": "WJ8s6fBx6rtY"
      },
      "id": "WJ8s6fBx6rtY",
      "execution_count": null,
      "outputs": []
    },
    {
      "cell_type": "code",
      "source": [
        "model_unfrozen.fit(x=[train_input_ids, train_att_mask], y=y_train, epochs=10, batch_size=4)"
      ],
      "metadata": {
        "colab": {
          "base_uri": "https://localhost:8080/"
        },
        "id": "imHkCsFk66Au",
        "outputId": "f3f2f311-7b28-4d08-c7fc-3b3af8020da6"
      },
      "id": "imHkCsFk66Au",
      "execution_count": null,
      "outputs": [
        {
          "output_type": "stream",
          "name": "stdout",
          "text": [
            "Epoch 1/10\n",
            "84/84 [==============================] - 89s 531ms/step - loss: 1.5330 - accuracy: 0.3343\n",
            "Epoch 2/10\n",
            "84/84 [==============================] - 44s 519ms/step - loss: 1.4675 - accuracy: 0.4030\n",
            "Epoch 3/10\n",
            "84/84 [==============================] - 42s 505ms/step - loss: 1.3528 - accuracy: 0.4418\n",
            "Epoch 4/10\n",
            "84/84 [==============================] - 42s 501ms/step - loss: 1.2046 - accuracy: 0.5075\n",
            "Epoch 5/10\n",
            "84/84 [==============================] - 42s 504ms/step - loss: 1.0752 - accuracy: 0.5612\n",
            "Epoch 6/10\n",
            "84/84 [==============================] - 43s 508ms/step - loss: 0.9360 - accuracy: 0.6239\n",
            "Epoch 7/10\n",
            "84/84 [==============================] - 42s 498ms/step - loss: 0.6968 - accuracy: 0.7403\n",
            "Epoch 8/10\n",
            "84/84 [==============================] - 42s 499ms/step - loss: 0.4921 - accuracy: 0.8507\n",
            "Epoch 9/10\n",
            "84/84 [==============================] - 42s 497ms/step - loss: 0.3116 - accuracy: 0.9582\n",
            "Epoch 10/10\n",
            "84/84 [==============================] - 42s 498ms/step - loss: 0.2081 - accuracy: 0.9642\n"
          ]
        },
        {
          "output_type": "execute_result",
          "data": {
            "text/plain": [
              "<keras.callbacks.History at 0x7fa0e121fa60>"
            ]
          },
          "metadata": {},
          "execution_count": 23
        }
      ]
    },
    {
      "cell_type": "markdown",
      "source": [
        "Since TFBertForSequenceClassification returns logits, we must first convert it to probabilities using softmax."
      ],
      "metadata": {
        "id": "dxDlWdTbHjYp"
      },
      "id": "dxDlWdTbHjYp"
    },
    {
      "cell_type": "code",
      "source": [
        "output = model_unfrozen.predict([test_input_ids, test_att_mask])\n",
        "softmax = tf.keras.layers.Softmax(axis=-1)\n",
        "preds = softmax(output.logits)\n",
        "pred_labels = preds.numpy().argmax(axis=1)"
      ],
      "metadata": {
        "colab": {
          "base_uri": "https://localhost:8080/"
        },
        "id": "OobaofR27AHE",
        "outputId": "2fc7a917-2f1c-4027-90b2-a2c1bf75eb3f"
      },
      "id": "OobaofR27AHE",
      "execution_count": null,
      "outputs": [
        {
          "output_type": "stream",
          "name": "stdout",
          "text": [
            "6/6 [==============================] - 11s 1s/step\n"
          ]
        }
      ]
    },
    {
      "cell_type": "code",
      "source": [
        "print('Classification Report')\n",
        "print(classification_report(y_test,pred_labels))"
      ],
      "metadata": {
        "colab": {
          "base_uri": "https://localhost:8080/"
        },
        "id": "d3NwEsdE7CqK",
        "outputId": "b2322647-a64b-46e9-d27a-0d8892e2beb7"
      },
      "id": "d3NwEsdE7CqK",
      "execution_count": null,
      "outputs": [
        {
          "output_type": "stream",
          "name": "stdout",
          "text": [
            "Classification Report\n",
            "              precision    recall  f1-score   support\n",
            "\n",
            "           0       0.62      0.50      0.55        36\n",
            "           1       0.29      0.33      0.31        33\n",
            "           2       0.43      0.62      0.51        56\n",
            "           3       0.53      0.32      0.40        25\n",
            "           4       1.00      0.13      0.24        15\n",
            "\n",
            "    accuracy                           0.45       165\n",
            "   macro avg       0.58      0.38      0.40       165\n",
            "weighted avg       0.51      0.45      0.44       165\n",
            "\n"
          ]
        }
      ]
    },
    {
      "cell_type": "code",
      "source": [
        "roc_auc_score(y_test, preds, multi_class='ovr', average='macro')"
      ],
      "metadata": {
        "colab": {
          "base_uri": "https://localhost:8080/"
        },
        "id": "sLVXshijFmPm",
        "outputId": "36fad4a1-da87-42a7-d5b3-543a2c91b495"
      },
      "id": "sLVXshijFmPm",
      "execution_count": null,
      "outputs": [
        {
          "output_type": "execute_result",
          "data": {
            "text/plain": [
              "0.6940348031467958"
            ]
          },
          "metadata": {},
          "execution_count": 26
        }
      ]
    },
    {
      "cell_type": "markdown",
      "source": [
        "# Create your own traditional model"
      ],
      "metadata": {
        "id": "YD3ix-Cmfr9M"
      },
      "id": "YD3ix-Cmfr9M"
    },
    {
      "cell_type": "code",
      "source": [
        "import tensorflow as tf\n",
        "import pandas as pd\n",
        "\n",
        "# # uncomment for IMDB dataset # 3 lines below\n",
        "(X_train, y_train), (X_test, y_test) = tf.keras.datasets.imdb.load_data(num_words=10000)\n",
        "x_train = tf.keras.preprocessing.sequence.pad_sequences(X_train, maxlen=512)\n",
        "x_test = tf.keras.preprocessing.sequence.pad_sequences(X_test, maxlen=512)\n",
        "\n",
        "# Input for variable-length sequences of integers\n",
        "inputs = tf.keras.Input(shape=(None,), dtype=\"int32\")\n",
        "\n",
        "# # uncomment vectorization for suicidal datae set\n",
        "# vectorize_layer = tf.keras.layers.TextVectorization(\n",
        "#     standardize='lower_and_strip_punctuation',\n",
        "#     split='whitespace',\n",
        "#     ngrams=None,\n",
        "#     max_tokens=10000,\n",
        "#     output_mode='int',\n",
        "#     output_sequence_length=512,\n",
        "#     pad_to_max_tokens=True)\n",
        "# vectorize_layer.adapt(X_train)\n",
        "# x_train = vectorize_layer(X_train) \n",
        "# x_test = vectorize_layer(X_test) \n",
        "\n",
        "# Embed each integer in a 100-dimensional vector\n",
        "x = tf.keras.layers.Embedding(10000, 100)(inputs) # top 10k\n",
        "\n",
        "# Add 2 bidirectional LSTMs\n",
        "x = tf.keras.layers.Bidirectional(tf.keras.layers.LSTM(64, return_sequences=True))(x)\n",
        "x = tf.keras.layers.Bidirectional(tf.keras.layers.LSTM(64))(x)\n",
        "# Add a classifier\n",
        "outputs = tf.keras.layers.Dense(1, activation=\"sigmoid\")(x)\n",
        "model = tf.keras.Model(inputs, outputs)\n",
        "\n",
        "model.compile(\"adam\", \"binary_crossentropy\", metrics=[\"accuracy\"])\n",
        "model.fit(x_train, y_train, batch_size=64, epochs=1) # , validation_data=(x_test, y_test)\n",
        "\n",
        "print(model.metrics_names)\n",
        "model.evaluate(x_test, y_test)"
      ],
      "metadata": {
        "id": "wxJAv7s0fvDA",
        "outputId": "0001a01f-63d6-46f6-d161-6c8a45cc0fb5",
        "colab": {
          "base_uri": "https://localhost:8080/"
        }
      },
      "id": "wxJAv7s0fvDA",
      "execution_count": null,
      "outputs": [
        {
          "output_type": "stream",
          "name": "stdout",
          "text": [
            "391/391 [==============================] - 74s 167ms/step - loss: 0.4119 - accuracy: 0.8106\n",
            "['loss', 'accuracy']\n",
            "782/782 [==============================] - 26s 31ms/step - loss: 0.3287 - accuracy: 0.8665\n"
          ]
        },
        {
          "output_type": "execute_result",
          "data": {
            "text/plain": [
              "[0.3287408947944641, 0.8664799928665161]"
            ]
          },
          "metadata": {},
          "execution_count": 23
        }
      ]
    },
    {
      "cell_type": "code",
      "source": [],
      "metadata": {
        "id": "7pIjoa0Qh8aF"
      },
      "id": "7pIjoa0Qh8aF",
      "execution_count": null,
      "outputs": []
    }
  ],
  "metadata": {
    "kernelspec": {
      "display_name": "Python 3 (ipykernel)",
      "language": "python",
      "name": "python3"
    },
    "language_info": {
      "codemirror_mode": {
        "name": "ipython",
        "version": 3
      },
      "file_extension": ".py",
      "mimetype": "text/x-python",
      "name": "python",
      "nbconvert_exporter": "python",
      "pygments_lexer": "ipython3",
      "version": "3.9.13"
    },
    "colab": {
      "provenance": []
    },
    "accelerator": "GPU",
    "gpuClass": "standard",
    "widgets": {
      "application/vnd.jupyter.widget-state+json": {
        "ed97455c99354c89bafbf18b6032e5db": {
          "model_module": "@jupyter-widgets/controls",
          "model_name": "HBoxModel",
          "model_module_version": "1.5.0",
          "state": {
            "_dom_classes": [],
            "_model_module": "@jupyter-widgets/controls",
            "_model_module_version": "1.5.0",
            "_model_name": "HBoxModel",
            "_view_count": null,
            "_view_module": "@jupyter-widgets/controls",
            "_view_module_version": "1.5.0",
            "_view_name": "HBoxView",
            "box_style": "",
            "children": [
              "IPY_MODEL_c45e42b446a3439d99b8d35e5a0686e6",
              "IPY_MODEL_d85a0dada9e742e49d48385cee0a3f02",
              "IPY_MODEL_444a860711214fb9ae8e9c3408c41b04"
            ],
            "layout": "IPY_MODEL_c96216356b1940debf6be7c57323f41c"
          }
        },
        "c45e42b446a3439d99b8d35e5a0686e6": {
          "model_module": "@jupyter-widgets/controls",
          "model_name": "HTMLModel",
          "model_module_version": "1.5.0",
          "state": {
            "_dom_classes": [],
            "_model_module": "@jupyter-widgets/controls",
            "_model_module_version": "1.5.0",
            "_model_name": "HTMLModel",
            "_view_count": null,
            "_view_module": "@jupyter-widgets/controls",
            "_view_module_version": "1.5.0",
            "_view_name": "HTMLView",
            "description": "",
            "description_tooltip": null,
            "layout": "IPY_MODEL_37689ebb93054ff5929065a8f1f4d29a",
            "placeholder": "​",
            "style": "IPY_MODEL_e72173eb6911400998b657e352b5cca5",
            "value": "Downloading tf_model.h5: 100%"
          }
        },
        "d85a0dada9e742e49d48385cee0a3f02": {
          "model_module": "@jupyter-widgets/controls",
          "model_name": "FloatProgressModel",
          "model_module_version": "1.5.0",
          "state": {
            "_dom_classes": [],
            "_model_module": "@jupyter-widgets/controls",
            "_model_module_version": "1.5.0",
            "_model_name": "FloatProgressModel",
            "_view_count": null,
            "_view_module": "@jupyter-widgets/controls",
            "_view_module_version": "1.5.0",
            "_view_name": "ProgressView",
            "bar_style": "success",
            "description": "",
            "description_tooltip": null,
            "layout": "IPY_MODEL_f42014c5d8aa4752acde0047db373b9d",
            "max": 536063208,
            "min": 0,
            "orientation": "horizontal",
            "style": "IPY_MODEL_5c26de718b6044eea33de91a42ce30c9",
            "value": 536063208
          }
        },
        "444a860711214fb9ae8e9c3408c41b04": {
          "model_module": "@jupyter-widgets/controls",
          "model_name": "HTMLModel",
          "model_module_version": "1.5.0",
          "state": {
            "_dom_classes": [],
            "_model_module": "@jupyter-widgets/controls",
            "_model_module_version": "1.5.0",
            "_model_name": "HTMLModel",
            "_view_count": null,
            "_view_module": "@jupyter-widgets/controls",
            "_view_module_version": "1.5.0",
            "_view_name": "HTMLView",
            "description": "",
            "description_tooltip": null,
            "layout": "IPY_MODEL_21d66770136849aa92c1fdf7f599775b",
            "placeholder": "​",
            "style": "IPY_MODEL_426040e2d8e34bad82bb88679f2cd726",
            "value": " 536M/536M [00:02&lt;00:00, 210MB/s]"
          }
        },
        "c96216356b1940debf6be7c57323f41c": {
          "model_module": "@jupyter-widgets/base",
          "model_name": "LayoutModel",
          "model_module_version": "1.2.0",
          "state": {
            "_model_module": "@jupyter-widgets/base",
            "_model_module_version": "1.2.0",
            "_model_name": "LayoutModel",
            "_view_count": null,
            "_view_module": "@jupyter-widgets/base",
            "_view_module_version": "1.2.0",
            "_view_name": "LayoutView",
            "align_content": null,
            "align_items": null,
            "align_self": null,
            "border": null,
            "bottom": null,
            "display": null,
            "flex": null,
            "flex_flow": null,
            "grid_area": null,
            "grid_auto_columns": null,
            "grid_auto_flow": null,
            "grid_auto_rows": null,
            "grid_column": null,
            "grid_gap": null,
            "grid_row": null,
            "grid_template_areas": null,
            "grid_template_columns": null,
            "grid_template_rows": null,
            "height": null,
            "justify_content": null,
            "justify_items": null,
            "left": null,
            "margin": null,
            "max_height": null,
            "max_width": null,
            "min_height": null,
            "min_width": null,
            "object_fit": null,
            "object_position": null,
            "order": null,
            "overflow": null,
            "overflow_x": null,
            "overflow_y": null,
            "padding": null,
            "right": null,
            "top": null,
            "visibility": null,
            "width": null
          }
        },
        "37689ebb93054ff5929065a8f1f4d29a": {
          "model_module": "@jupyter-widgets/base",
          "model_name": "LayoutModel",
          "model_module_version": "1.2.0",
          "state": {
            "_model_module": "@jupyter-widgets/base",
            "_model_module_version": "1.2.0",
            "_model_name": "LayoutModel",
            "_view_count": null,
            "_view_module": "@jupyter-widgets/base",
            "_view_module_version": "1.2.0",
            "_view_name": "LayoutView",
            "align_content": null,
            "align_items": null,
            "align_self": null,
            "border": null,
            "bottom": null,
            "display": null,
            "flex": null,
            "flex_flow": null,
            "grid_area": null,
            "grid_auto_columns": null,
            "grid_auto_flow": null,
            "grid_auto_rows": null,
            "grid_column": null,
            "grid_gap": null,
            "grid_row": null,
            "grid_template_areas": null,
            "grid_template_columns": null,
            "grid_template_rows": null,
            "height": null,
            "justify_content": null,
            "justify_items": null,
            "left": null,
            "margin": null,
            "max_height": null,
            "max_width": null,
            "min_height": null,
            "min_width": null,
            "object_fit": null,
            "object_position": null,
            "order": null,
            "overflow": null,
            "overflow_x": null,
            "overflow_y": null,
            "padding": null,
            "right": null,
            "top": null,
            "visibility": null,
            "width": null
          }
        },
        "e72173eb6911400998b657e352b5cca5": {
          "model_module": "@jupyter-widgets/controls",
          "model_name": "DescriptionStyleModel",
          "model_module_version": "1.5.0",
          "state": {
            "_model_module": "@jupyter-widgets/controls",
            "_model_module_version": "1.5.0",
            "_model_name": "DescriptionStyleModel",
            "_view_count": null,
            "_view_module": "@jupyter-widgets/base",
            "_view_module_version": "1.2.0",
            "_view_name": "StyleView",
            "description_width": ""
          }
        },
        "f42014c5d8aa4752acde0047db373b9d": {
          "model_module": "@jupyter-widgets/base",
          "model_name": "LayoutModel",
          "model_module_version": "1.2.0",
          "state": {
            "_model_module": "@jupyter-widgets/base",
            "_model_module_version": "1.2.0",
            "_model_name": "LayoutModel",
            "_view_count": null,
            "_view_module": "@jupyter-widgets/base",
            "_view_module_version": "1.2.0",
            "_view_name": "LayoutView",
            "align_content": null,
            "align_items": null,
            "align_self": null,
            "border": null,
            "bottom": null,
            "display": null,
            "flex": null,
            "flex_flow": null,
            "grid_area": null,
            "grid_auto_columns": null,
            "grid_auto_flow": null,
            "grid_auto_rows": null,
            "grid_column": null,
            "grid_gap": null,
            "grid_row": null,
            "grid_template_areas": null,
            "grid_template_columns": null,
            "grid_template_rows": null,
            "height": null,
            "justify_content": null,
            "justify_items": null,
            "left": null,
            "margin": null,
            "max_height": null,
            "max_width": null,
            "min_height": null,
            "min_width": null,
            "object_fit": null,
            "object_position": null,
            "order": null,
            "overflow": null,
            "overflow_x": null,
            "overflow_y": null,
            "padding": null,
            "right": null,
            "top": null,
            "visibility": null,
            "width": null
          }
        },
        "5c26de718b6044eea33de91a42ce30c9": {
          "model_module": "@jupyter-widgets/controls",
          "model_name": "ProgressStyleModel",
          "model_module_version": "1.5.0",
          "state": {
            "_model_module": "@jupyter-widgets/controls",
            "_model_module_version": "1.5.0",
            "_model_name": "ProgressStyleModel",
            "_view_count": null,
            "_view_module": "@jupyter-widgets/base",
            "_view_module_version": "1.2.0",
            "_view_name": "StyleView",
            "bar_color": null,
            "description_width": ""
          }
        },
        "21d66770136849aa92c1fdf7f599775b": {
          "model_module": "@jupyter-widgets/base",
          "model_name": "LayoutModel",
          "model_module_version": "1.2.0",
          "state": {
            "_model_module": "@jupyter-widgets/base",
            "_model_module_version": "1.2.0",
            "_model_name": "LayoutModel",
            "_view_count": null,
            "_view_module": "@jupyter-widgets/base",
            "_view_module_version": "1.2.0",
            "_view_name": "LayoutView",
            "align_content": null,
            "align_items": null,
            "align_self": null,
            "border": null,
            "bottom": null,
            "display": null,
            "flex": null,
            "flex_flow": null,
            "grid_area": null,
            "grid_auto_columns": null,
            "grid_auto_flow": null,
            "grid_auto_rows": null,
            "grid_column": null,
            "grid_gap": null,
            "grid_row": null,
            "grid_template_areas": null,
            "grid_template_columns": null,
            "grid_template_rows": null,
            "height": null,
            "justify_content": null,
            "justify_items": null,
            "left": null,
            "margin": null,
            "max_height": null,
            "max_width": null,
            "min_height": null,
            "min_width": null,
            "object_fit": null,
            "object_position": null,
            "order": null,
            "overflow": null,
            "overflow_x": null,
            "overflow_y": null,
            "padding": null,
            "right": null,
            "top": null,
            "visibility": null,
            "width": null
          }
        },
        "426040e2d8e34bad82bb88679f2cd726": {
          "model_module": "@jupyter-widgets/controls",
          "model_name": "DescriptionStyleModel",
          "model_module_version": "1.5.0",
          "state": {
            "_model_module": "@jupyter-widgets/controls",
            "_model_module_version": "1.5.0",
            "_model_name": "DescriptionStyleModel",
            "_view_count": null,
            "_view_module": "@jupyter-widgets/base",
            "_view_module_version": "1.2.0",
            "_view_name": "StyleView",
            "description_width": ""
          }
        }
      }
    }
  },
  "nbformat": 4,
  "nbformat_minor": 5
}